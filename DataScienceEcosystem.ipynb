{
 "cells": [
  {
   "cell_type": "markdown",
   "id": "d5f8f169-9f43-483e-b3e2-69615b297127",
   "metadata": {
    "tags": []
   },
   "source": [
    "# Data Science Tools and Ecosystem "
   ]
  },
  {
   "cell_type": "markdown",
   "id": "d3e87c23-7a07-4749-9090-a0723c202b9a",
   "metadata": {
    "tags": []
   },
   "source": [
    "### Exercise 3 - Create a markdown cell for an introduction\n",
    "In this notebook, Data Science Tools and Ecosystem are summarized."
   ]
  },
  {
   "cell_type": "markdown",
   "id": "25c54ec2-7532-4008-8182-eb49d420f156",
   "metadata": {},
   "source": [
    "### Exercise 10 - Insert a markdown cell to list Objectives\n",
    "**Objectives:**\n",
    "* List the tasks that a data scientist needs to perform to build a model.\n",
    "* List the open-source tools used in data science.\n",
    "* Describe the relevant features of open-source tools.\n",
    "* List the commercial data science tools."
   ]
  },
  {
   "cell_type": "markdown",
   "id": "65a3361f-2c98-40c9-add1-441924405059",
   "metadata": {},
   "source": [
    "### Exercise 4 - Create a markdown cell to list data science languages\n",
    "Some of the popular languages that Data Scientists use are:\n",
    "1. Python\n",
    "2. R\n",
    "3. Julia\n",
    "4. Java\n",
    "5. Scala\n"
   ]
  },
  {
   "cell_type": "markdown",
   "id": "45cd8574-f89e-45e4-b8e2-757e25dac55a",
   "metadata": {},
   "source": [
    "### Exercise 5 - Create a markdown cell to list data science libraries\n",
    "Some of the commonly used libraries used by Data Scientists include:\n",
    "1. Pandas\n",
    "2. Numpy \n",
    "3. Scipy\n",
    "4. dplyr \n",
    "5. tidyr \n",
    "6. readr "
   ]
  },
  {
   "cell_type": "markdown",
   "id": "71cf1dbf-69b9-4ac6-ac3d-8e497b94100d",
   "metadata": {},
   "source": [
    "### Exercise 6 - Create a markdown cell with a table of Data Science tools\n",
    "|Application|Tools|\n",
    "|-|-|\n",
    "|Data management|MySQL, MongoDB and Ceph|\n",
    "|Data integration|NodeRED, Apache AirFlow and Apache Kafka|\n",
    "|Data visualization|Pixie Dust, Hue and Kibana|"
   ]
  },
  {
   "cell_type": "markdown",
   "id": "4d0c6f63-3ee9-46a5-b511-f643c6b8e7b6",
   "metadata": {},
   "source": [
    "### Exercise 7 - Create a markdown cell introducing arithmetic expression examples\n",
    "\n",
    "### Below are a few examples of evaluating arithmetic expressions in Python"
   ]
  },
  {
   "cell_type": "markdown",
   "id": "5ad77b34-5b25-439f-b555-7b12fa59e141",
   "metadata": {},
   "source": [
    "### Exercise 8 - Create a code cell to multiply and add numbers"
   ]
  },
  {
   "cell_type": "code",
   "execution_count": 1,
   "id": "715ba586-93fe-4640-9fa5-5d497e625a73",
   "metadata": {},
   "outputs": [
    {
     "data": {
      "text/plain": [
       "17"
      ]
     },
     "execution_count": 1,
     "metadata": {},
     "output_type": "execute_result"
    }
   ],
   "source": [
    "(3*4) + 5  # This a simple arithmetic expression to mutiply then add integers"
   ]
  },
  {
   "cell_type": "markdown",
   "id": "d1d60374-bc9d-4b96-be85-ed2ef5ce2334",
   "metadata": {},
   "source": [
    "### Exercise 9 - Create a code cell to convert minutes to hours"
   ]
  },
  {
   "cell_type": "code",
   "execution_count": 8,
   "id": "65f4cd57-f05a-4326-949d-d64ec13ae8b7",
   "metadata": {},
   "outputs": [
    {
     "name": "stdout",
     "output_type": "stream",
     "text": [
      "3.3333333333333335\n"
     ]
    }
   ],
   "source": [
    "Minutes = 200\n",
    "Hours = Minutes / 60    # His will convert minutes to hours by diving by 60\n",
    "print(Hours)"
   ]
  },
  {
   "cell_type": "markdown",
   "id": "1a28e7a1-f198-4501-9c4d-8c4ec33151e3",
   "metadata": {},
   "source": [
    "### Exercise 11 - Create a markdown cell to indicate the Author's name\n",
    "## Author\n",
    "Cristian Correa Leyva\n"
   ]
  },
  {
   "cell_type": "code",
   "execution_count": null,
   "id": "051aebbc-a516-47dd-81bb-3b7e2977a61f",
   "metadata": {},
   "outputs": [],
   "source": []
  }
 ],
 "metadata": {
  "kernelspec": {
   "display_name": "Python",
   "language": "python",
   "name": "conda-env-python-py"
  },
  "language_info": {
   "codemirror_mode": {
    "name": "ipython",
    "version": 3
   },
   "file_extension": ".py",
   "mimetype": "text/x-python",
   "name": "python",
   "nbconvert_exporter": "python",
   "pygments_lexer": "ipython3",
   "version": "3.7.12"
  }
 },
 "nbformat": 4,
 "nbformat_minor": 5
}
